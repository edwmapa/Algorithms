{
 "cells": [
  {
   "cell_type": "markdown",
   "metadata": {},
   "source": [
    "# Matrix Product Analysis\n",
    "## Product"
   ]
  },
  {
   "cell_type": "code",
   "execution_count": 1,
   "metadata": {
    "collapsed": true
   },
   "outputs": [],
   "source": [
    "import numpy as np\n",
    "import time\n",
    "import matplotlib.pyplot as plt"
   ]
  },
  {
   "cell_type": "code",
   "execution_count": 2,
   "metadata": {
    "collapsed": true
   },
   "outputs": [],
   "source": [
    "#Product Function\n",
    "def matrixProduct(A,B,n,m,k):\n",
    "    C = np.zeros((n,k),dtype=int)\n",
    "    for i in range(0,n):\n",
    "        for j in range(0,k):\n",
    "            for l in range(0,m):\n",
    "                C[i][j] = C[i][j]+(A[i][l]*B[l][j])\n",
    "    return C\n",
    "\n",
    "#This is the same function but with some changes to measure time taken by operations(+,*).\n",
    "def matrixProductTimes(A,B,n,m,k):\n",
    "    C = np.zeros((n,k),dtype=int)\n",
    "    add,multi = 0,0\n",
    "    for i in range(0,n):\n",
    "        for j in range(0,k):\n",
    "            for l in range(0,m):\n",
    "                to = time.clock()\n",
    "                pr = A[i][l]*B[l][j]\n",
    "                tf = time.clock()\n",
    "                multi = multi + (tf-to)\n",
    "                to = time.clock()\n",
    "                C[i][j] = C[i][j]+pr\n",
    "                tf = time.clock()\n",
    "                add = add + (tf-to)\n",
    "    return C,add,multi\n"
   ]
  },
  {
   "cell_type": "markdown",
   "metadata": {},
   "source": [
    "##### Testing the function:\n",
    "For this assignment we create two Matrices $A_{nxn}$ and $B_{nxn}$, where $a_{ij} = 1$ and $B_{ij} = 2$ with $1 \\leq i,j \\leq n$ are elements of $A_{nxn}$ and $B_{nxn}$ respectively."
   ]
  },
  {
   "cell_type": "code",
   "execution_count": 3,
   "metadata": {},
   "outputs": [
    {
     "name": "stdout",
     "output_type": "stream",
     "text": [
      "Time>  0.0009600000000000719  seconds\n",
      "A = \n",
      " [[1 1 1 1 1]\n",
      " [1 1 1 1 1]\n",
      " [1 1 1 1 1]\n",
      " [1 1 1 1 1]\n",
      " [1 1 1 1 1]]\n",
      "B = \n",
      " [[2 2 2 2 2]\n",
      " [2 2 2 2 2]\n",
      " [2 2 2 2 2]\n",
      " [2 2 2 2 2]\n",
      " [2 2 2 2 2]]\n",
      "AB = \n",
      " [[10 10 10 10 10]\n",
      " [10 10 10 10 10]\n",
      " [10 10 10 10 10]\n",
      " [10 10 10 10 10]\n",
      " [10 10 10 10 10]]\n"
     ]
    }
   ],
   "source": [
    "# we define the matrix dimesion nxm for two matrix\n",
    "n,m,k = 5,5,5\n",
    "\n",
    "#Matrix A,B\n",
    "A = np.ones((n,m), dtype=np.int) #n*m\n",
    "B = np.full((m,k), 2) #n*k\n",
    "to= time.clock()\n",
    "C = matrixProduct(A,B,n,m,k)\n",
    "tf= time.clock()\n",
    "\n",
    "print (\"Time> \",tf-to,\" seconds\")\n",
    "print(\"A = \\n\",A)\n",
    "print(\"B = \\n\",B)\n",
    "print(\"AB = \\n\",C)"
   ]
  },
  {
   "cell_type": "markdown",
   "metadata": {
    "collapsed": true
   },
   "source": [
    "## Time Plot\n",
    "Here we check the time taken by product, for simplicity, we consider square matrix, giving us a complexity of $O(n^3)$. If we consider non squared matrices, the complexity would be $O(n*m*k)$ because of the behaviour of the function $\\textit{matrixProduct(A,B,n,m,k)}$"
   ]
  },
  {
   "cell_type": "code",
   "execution_count": 5,
   "metadata": {},
   "outputs": [
    {
     "data": {
      "image/png": "[encoded data removed]",
      "text/plain": [
       "<matplotlib.figure.Figure at 0x7fbfe7d2e4a8>"
      ]
     },
     "metadata": {},
     "output_type": "display_data"
    }
   ],
   "source": [
    "matrixSize = 100\n",
    "sizes = np.arange(0,matrixSize)\n",
    "times = np.empty(matrixSize)\n",
    "for i in sizes:\n",
    "    n=m=k=i\n",
    "    A = np.ones((n,m), dtype=np.int) #n*m\n",
    "    B = np.full((m,k), 2) #n*k\n",
    "    \n",
    "    to= time.clock()\n",
    "    C = matrixProduct(A,B,n,m,k)\n",
    "    tf= time.clock()\n",
    "    times[i]=tf-to\n",
    "\n",
    "plt.plot(sizes,times,'k.',label = 'Elapsed')\n",
    "plt.title('Matrix Product Performance')\n",
    "plt.xlabel('N')\n",
    "plt.ylabel('time(seconds)')\n",
    "plt.show()"
   ]
  },
  {
   "cell_type": "markdown",
   "metadata": {
    "collapsed": true
   },
   "source": [
    "###### We also measure the time taken by the ($+,*$) operations in the matrix product.\n",
    "Note that we make an average between 10 executions."
   ]
  },
  {
   "cell_type": "code",
   "execution_count": 6,
   "metadata": {},
   "outputs": [
    {
     "data": {
      "image/png": "[encoded data removed]",
      "text/plain": [
       "<matplotlib.figure.Figure at 0x7fbfe7cdcb00>"
      ]
     },
     "metadata": {},
     "output_type": "display_data"
    }
   ],
   "source": [
    "matrixSize = 50\n",
    "sizes = np.arange(0,matrixSize)\n",
    "timeAdd = np.zeros(matrixSize)\n",
    "timeProd = np.zeros(matrixSize)\n",
    "for i in sizes:\n",
    "    n=m=k=i\n",
    "    A = np.ones((n,m), dtype=np.int) #n*m\n",
    "    B = np.full((m,k), 2) #n*k\n",
    "    \n",
    "    #Average of time\n",
    "    for j in range(10):\n",
    "        C,ad,pr = matrixProductTimes(A,B,n,m,k)\n",
    "        timeAdd[i] += ad\n",
    "        timeProd[i] += pr\n",
    "    timeAdd[i]/=10.0\n",
    "    timeProd[i]/=10.0\n",
    "    \n",
    "add, = plt.plot(sizes,timeAdd,label = 'Add $(+)$')\n",
    "prod, = plt.plot(sizes,timeProd,label='Multiplication $(*)$')\n",
    "plt.legend(handles=[add,prod])\n",
    "plt.title('Matrix Product Performance')\n",
    "plt.xlabel('N')\n",
    "plt.ylabel('time(seconds)')\n",
    "plt.show()"
   ]
  },
  {
   "cell_type": "code",
   "execution_count": null,
   "metadata": {
    "collapsed": true
   },
   "outputs": [],
   "source": []
  }
 ],
 "metadata": {
  "kernelspec": {
   "display_name": "Python 3",
   "language": "python",
   "name": "python3"
  },
  "language_info": {
   "codemirror_mode": {
    "name": "ipython",
    "version": 3
   },
   "file_extension": ".py",
   "mimetype": "text/x-python",
   "name": "python",
   "nbconvert_exporter": "python",
   "pygments_lexer": "ipython3",
   "version": "3.6.3"
  }
 },
 "nbformat": 4,
 "nbformat_minor": 2
}
