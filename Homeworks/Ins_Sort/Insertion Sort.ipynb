{
 "cells": [
  {
   "cell_type": "markdown",
   "metadata": {},
   "source": [
    "# Insertion Sort\n",
    "## Sort function"
   ]
  },
  {
   "cell_type": "code",
   "execution_count": 1,
   "metadata": {
    "collapsed": true
   },
   "outputs": [],
   "source": [
    "import numpy as np\n",
    "import time\n",
    "import itertools\n",
    "import matplotlib.pyplot as plt"
   ]
  },
  {
   "cell_type": "code",
   "execution_count": 83,
   "metadata": {},
   "outputs": [],
   "source": [
    "def in_sort(A,aLen):\n",
    "    for i in range(1,aLen):\n",
    "        temp = A[i];\n",
    "        j=i-1;\n",
    "        while(temp<A[j] and j>=0):\n",
    "            A[j+1]=A[j]\n",
    "            j-=1\n",
    "        A[j+1]=temp\n",
    "    return A\n",
    "\n",
    "#Modified version, returns steps and comparisons\n",
    "def in_sort_Mod(A,aLen):\n",
    "    #init counters\n",
    "    steps,comps,swaps = 0,0,0\n",
    "    t=np.zeros(aLen,dtype=int)\n",
    "    i = 1\n",
    "    while(i<aLen):\n",
    "        temp = A[i]\n",
    "        j=i-1\n",
    "        while(True):\n",
    "            comps+=1\n",
    "            t[i]+=1\n",
    "            if(j<0):break\n",
    "            if(temp>=A[j]):break\n",
    "            else:swaps+=1\n",
    "            A[j+1]=A[j]\n",
    "            j-=1;steps+=3\n",
    "        A[j+1]=temp;steps+=1;\n",
    "        i+=1;steps+=4\n",
    "    steps+=1\n",
    "    return A,steps,comps,swaps,t"
   ]
  },
  {
   "cell_type": "markdown",
   "metadata": {},
   "source": [
    "Here we test the function:"
   ]
  },
  {
   "cell_type": "code",
   "execution_count": 3,
   "metadata": {},
   "outputs": [
    {
     "name": "stdout",
     "output_type": "stream",
     "text": [
      "A >  [0 5 1 3 4 7 9]\n",
      "ordered A >  [0 1 3 4 5 7 9]\n"
     ]
    }
   ],
   "source": [
    "A = np.array([0,5,1,3,4,7,9])\n",
    "print('A > ',A)\n",
    "print('ordered A > ',in_sort(A,len(A)))"
   ]
  },
  {
   "cell_type": "markdown",
   "metadata": {},
   "source": [
    "## Steps distribution"
   ]
  },
  {
   "cell_type": "code",
   "execution_count": 100,
   "metadata": {
    "collapsed": true
   },
   "outputs": [],
   "source": [
    "#Generate all permutations of n\n",
    "n = 3\n",
    "perm = np.array(list(itertools.permutations(range(n))))\n",
    "n_perm = len(perm)"
   ]
  },
  {
   "cell_type": "code",
   "execution_count": 101,
   "metadata": {},
   "outputs": [],
   "source": [
    "pasos = np.empty(n_perm)\n",
    "comparaciones = np.empty(n_perm)\n",
    "sw = np.empty(n_perm)\n",
    "t_loop=np.empty([n_perm,n])\n",
    "for i in range (n_perm):\n",
    "    tm = perm[i]\n",
    "    A,steps,comps,swaps,t = in_sort_Mod(tm,n)\n",
    "    pasos[i]=steps\n",
    "    comparaciones[i]=comps\n",
    "    sw[i]=swaps\n",
    "    t_loop[i] = t"
   ]
  },
  {
   "cell_type": "markdown",
   "metadata": {},
   "source": [
    "In the histogram we can see the number of steps taken by in_sort(), and the average time for any permutation"
   ]
  },
  {
   "cell_type": "code",
   "execution_count": 102,
   "metadata": {},
   "outputs": [
    {
     "data": {
      "image/png": "[encoded data removed]",
      "text/plain": [
       "<matplotlib.figure.Figure at 0x18685addef0>"
      ]
     },
     "metadata": {},
     "output_type": "display_data"
    },
    {
     "name": "stdout",
     "output_type": "stream",
     "text": [
      "Distribution\n",
      "P(11.0) =  0.185185185185\n",
      "P(12.0) =  0.0\n",
      "P(13.0) =  0.0\n",
      "P(14.0) =  0.37037037037\n",
      "P(15.0) =  0.0\n",
      "P(16.0) =  0.0\n",
      "P(17.0) =  0.37037037037\n",
      "P(18.0) =  0.0\n",
      "P(19.0) =  0.0\n",
      "P(20.0) =  0.185185185185\n",
      "Average >  15.5\n"
     ]
    }
   ],
   "source": [
    "counts, bins, bars=plt.hist(pasos, normed=1)\n",
    "plt.title(\"Probability Density - n = \"+str(n))\n",
    "plt.xlabel('Steps')\n",
    "plt.ylabel('Probaility')\n",
    "plt.show()\n",
    "\n",
    "#raw data\n",
    "pasosProb = pasos/np.linalg.norm(pasos,1)\n",
    "print(\"Distribution\")\n",
    "for i in range(len(bins)-1):\n",
    "    print(\"P(\"+str(i+pasos[0])+\") = \",counts[i])\n",
    "print(\"Average > \",np.average(pasos))"
   ]
  },
  {
   "cell_type": "markdown",
   "metadata": {},
   "source": [
    "And for the number of comparisons performed:"
   ]
  },
  {
   "cell_type": "code",
   "execution_count": 103,
   "metadata": {},
   "outputs": [
    {
     "name": "stdout",
     "output_type": "stream",
     "text": [
      "[ t0 t1 t2 ]\n",
      "perm[0 1 2]> [ 0.  1.  1.]\n",
      "perm[0 1 2]> [ 0.  1.  2.]\n",
      "perm[0 1 2]> [ 0.  2.  1.]\n",
      "perm[0 1 2]> [ 0.  1.  3.]\n",
      "perm[0 1 2]> [ 0.  2.  2.]\n",
      "perm[0 1 2]> [ 0.  2.  3.]\n"
     ]
    }
   ],
   "source": [
    "t_norm = np.empty(n_perm)\n",
    "print (\"[\",end=' ')\n",
    "for i in range(n): print('t'+str(i),end=' ')\n",
    "print (\"]\")\n",
    "for i in range(n_perm):\n",
    "    print (\"perm\"+ str(perm[i]) +\">\",t_loop[i])"
   ]
  },
  {
   "cell_type": "code",
   "execution_count": null,
   "metadata": {
    "collapsed": true
   },
   "outputs": [],
   "source": []
  }
 ],
 "metadata": {
  "kernelspec": {
   "display_name": "Python 3",
   "language": "python",
   "name": "python3"
  },
  "language_info": {
   "codemirror_mode": {
    "name": "ipython",
    "version": 3
   },
   "file_extension": ".py",
   "mimetype": "text/x-python",
   "name": "python",
   "nbconvert_exporter": "python",
   "pygments_lexer": "ipython3",
   "version": "3.6.3"
  }
 },
 "nbformat": 4,
 "nbformat_minor": 2
}
