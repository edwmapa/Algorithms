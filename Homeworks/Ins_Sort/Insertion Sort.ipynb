{
 "cells": [
  {
   "cell_type": "markdown",
   "metadata": {},
   "source": [
    "# Insertion Sort\n",
    "## Sort function"
   ]
  },
  {
   "cell_type": "code",
   "execution_count": 1,
   "metadata": {
    "collapsed": true
   },
   "outputs": [],
   "source": [
    "import numpy as np\n",
    "import time\n",
    "import itertools\n",
    "import matplotlib.pyplot as plt"
   ]
  },
  {
   "cell_type": "code",
   "execution_count": 2,
   "metadata": {},
   "outputs": [],
   "source": [
    "def in_sort(A,aLen):\n",
    "    for i in range(1,aLen):\n",
    "        temp = A[i];\n",
    "        j=i-1;\n",
    "        while(temp<A[j] and j>=0):\n",
    "            A[j+1]=A[j]\n",
    "            j-=1\n",
    "        A[j+1]=temp\n",
    "    return A\n",
    "\n",
    "#Modified version, returns steps and comparisons\n",
    "def in_sort_Mod(A,aLen):\n",
    "    #init counters\n",
    "    steps,comps,swaps = 0,0,0\n",
    "    t=np.zeros(aLen,dtype=int)\n",
    "    i = 1\n",
    "    while(i<aLen):\n",
    "        temp = A[i]\n",
    "        j=i-1\n",
    "        while(True):\n",
    "            comps+=1\n",
    "            t[i]+=1\n",
    "            if(j<0):break\n",
    "            if(temp>=A[j]):break\n",
    "            swaps+=1\n",
    "            A[j+1]=A[j]\n",
    "            j-=1;steps+=3\n",
    "        A[j+1]=temp;steps+=1;\n",
    "        i+=1;steps+=4\n",
    "    steps+=1\n",
    "    return A,steps,comps,swaps,t"
   ]
  },
  {
   "cell_type": "markdown",
   "metadata": {},
   "source": [
    "Here we test the function:"
   ]
  },
  {
   "cell_type": "code",
   "execution_count": 3,
   "metadata": {},
   "outputs": [
    {
     "name": "stdout",
     "output_type": "stream",
     "text": [
      "A >  [0 5 1 3 4 7 9]\n",
      "ordered A >  [0 1 3 4 5 7 9]\n"
     ]
    }
   ],
   "source": [
    "A = np.array([0,5,1,3,4,7,9])\n",
    "print('A > ',A)\n",
    "print('ordered A > ',in_sort(A,len(A)))"
   ]
  },
  {
   "cell_type": "markdown",
   "metadata": {},
   "source": [
    "### Steps distribution"
   ]
  },
  {
   "cell_type": "code",
   "execution_count": 4,
   "metadata": {},
   "outputs": [],
   "source": [
    "#custom function - calc steps\n",
    "def calc(n):\n",
    "    #Generate permutations lenght n\n",
    "    perm = np.array(list(itertools.permutations(range(n))))\n",
    "    n_perm = len(perm)\n",
    "    \n",
    "    pasos = np.empty(n_perm)\n",
    "    comparaciones = np.empty(n_perm)\n",
    "    sw = np.empty(n_perm)\n",
    "    t_loop=np.empty([n_perm,n])\n",
    "    for i in range (n_perm):\n",
    "        tm = np.copy(perm[i])\n",
    "        A,steps,comps,swaps,t = in_sort_Mod(tm,n)\n",
    "        pasos[i]=steps\n",
    "        comparaciones[i]=comps\n",
    "        sw[i]=swaps\n",
    "        t_loop[i] = t\n",
    "    return pasos,comparaciones,sw,t_loop,perm,n_perm\n",
    "\n",
    "#Call the function\n",
    "n = 3\n",
    "pasos,comparaciones,sw,t_loop,perm,n_perm = calc(n)"
   ]
  },
  {
   "cell_type": "markdown",
   "metadata": {},
   "source": [
    "### Histogram Functions:"
   ]
  },
  {
   "cell_type": "code",
   "execution_count": 5,
   "metadata": {},
   "outputs": [],
   "source": [
    "def step_hist(pasos,n_perm):\n",
    "    min_steps,max_steps=min(pasos), max(pasos)\n",
    "    plt.hist(pasos, bins=np.arange(min_steps,max_steps + 1, 1), normed=1)\n",
    "    plt.title(\"Probability Density - n = \"+str(n))\n",
    "    plt.xlabel('Steps')\n",
    "    plt.ylabel('Probaility')\n",
    "    plt.show()\n",
    "\n",
    "    #raw data\n",
    "    vals,counts = np.unique(pasos,return_counts=True)\n",
    "    print(\"\\nAverage Steps: \"+str(np.average(pasos)), \"- Min Steps: \"+str(min_steps),\"- Max Steps: \"+str(max_steps))\n",
    "    print(\"Probabilities: \")\n",
    "    for i in range(len(vals)):\n",
    "        print(\"P(\"+str(int(vals[i]))+\") = \"+str(counts[i]/n_perm))\n",
    "def comp_hist(comparaciones,n_perm):\n",
    "    #histogram comparisons\n",
    "    min_steps,max_steps=min(comparaciones), max(comparaciones)\n",
    "    plt.hist(comparaciones, bins=np.arange(min_steps,max_steps + 1, 1), normed=1)\n",
    "    plt.title(\"Probability Density Comparisons - n = \"+str(n))\n",
    "    plt.xlabel('n-comparisons')\n",
    "    plt.ylabel('Probaility')\n",
    "    plt.show()\n",
    "\n",
    "    #raw data\n",
    "    vals,counts = np.unique(comparaciones,return_counts=True)\n",
    "    print(\"\\nAverage Comparisons: \"+str(np.average(comparaciones))\n",
    "          , \"- Min Comparisons: \"+str(min_steps),\"- Max Comparisons: \"+str(max_steps))\n",
    "    print(\"Probabilities for Comparisons: \")\n",
    "    for i in range(len(vals)):\n",
    "        print(\"P(\"+str(int(vals[i]))+\") = \"+str(counts[i]/n_perm))\n",
    "def swap_hist(sw,n_perm):\n",
    "    #histogram swaps\n",
    "    min_steps,max_steps=min(sw), max(sw)\n",
    "    plt.hist(sw, bins=np.arange(min_steps,max_steps + 1, 1), normed=1)\n",
    "    plt.title(\"Probability Density Swaps - n = \"+str(n))\n",
    "    plt.xlabel('n-swaps')\n",
    "    plt.ylabel('Probaility')\n",
    "    plt.show()\n",
    "    #raw data\n",
    "    vals,counts = np.unique(sw,return_counts=True)\n",
    "    print(\"\\nAverage Swaps: \"+str(np.average(sw)), \"- Min Swaps: \"+str(min_steps),\"- Max Swaps: \"+str(max_steps))\n",
    "    print(\"Probabilities for Swaps: \")\n",
    "    for i in range(len(vals)):\n",
    "        print(\"P(\"+str(int(vals[i]))+\") = \"+str(counts[i]/n_perm))"
   ]
  },
  {
   "cell_type": "markdown",
   "metadata": {},
   "source": [
    "Now we execute them:"
   ]
  },
  {
   "cell_type": "code",
   "execution_count": 6,
   "metadata": {},
   "outputs": [
    {
     "name": "stdout",
     "output_type": "stream",
     "text": [
      "[ 2.  3.  3.  4.  4.  5.]\n"
     ]
    },
    {
     "data": {
      "image/png": "[encoded data removed]",
      "text/plain": [
       "<matplotlib.figure.Figure at 0x7fd4c45a66d8>"
      ]
     },
     "metadata": {},
     "output_type": "display_data"
    },
    {
     "name": "stdout",
     "output_type": "stream",
     "text": [
      "\n",
      "Average Steps: 15.5 - Min Steps: 11.0 - Max Steps: 20.0\n",
      "Probabilities: \n",
      "P(11) = 0.166666666667\n",
      "P(14) = 0.333333333333\n",
      "P(17) = 0.333333333333\n",
      "P(20) = 0.166666666667\n"
     ]
    },
    {
     "data": {
      "image/png": "[encoded data removed]",
      "text/plain": [
       "<matplotlib.figure.Figure at 0x7fd4c455a358>"
      ]
     },
     "metadata": {},
     "output_type": "display_data"
    },
    {
     "name": "stdout",
     "output_type": "stream",
     "text": [
      "\n",
      "Average Comparisons: 3.5 - Min Comparisons: 2.0 - Max Comparisons: 5.0\n",
      "Probabilities for Comparisons: \n",
      "P(2) = 0.166666666667\n",
      "P(3) = 0.333333333333\n",
      "P(4) = 0.333333333333\n",
      "P(5) = 0.166666666667\n"
     ]
    },
    {
     "data": {
      "image/png": "[encoded data removed]",
      "text/plain": [
       "<matplotlib.figure.Figure at 0x7fd4c4090cf8>"
      ]
     },
     "metadata": {},
     "output_type": "display_data"
    },
    {
     "name": "stdout",
     "output_type": "stream",
     "text": [
      "\n",
      "Average Swaps: 1.5 - Min Swaps: 0.0 - Max Swaps: 3.0\n",
      "Probabilities for Swaps: \n",
      "P(0) = 0.166666666667\n",
      "P(1) = 0.333333333333\n",
      "P(2) = 0.333333333333\n",
      "P(3) = 0.166666666667\n"
     ]
    }
   ],
   "source": [
    "print(comparaciones)\n",
    "step_hist(pasos,n_perm)\n",
    "comp_hist(comparaciones,n_perm)\n",
    "swap_hist(sw,n_perm)"
   ]
  },
  {
   "cell_type": "markdown",
   "metadata": {},
   "source": [
    "And for the number of comparisons performed by each number(Note that each value corresponds to [t0 t1 t2 .... tn]):"
   ]
  },
  {
   "cell_type": "code",
   "execution_count": 7,
   "metadata": {},
   "outputs": [
    {
     "name": "stdout",
     "output_type": "stream",
     "text": [
      "Permutation [0 1 2] ->  [ 0.  1.  1.]\n",
      "Permutation [0 2 1] ->  [ 0.  1.  2.]\n",
      "Permutation [1 0 2] ->  [ 0.  2.  1.]\n",
      "Permutation [1 2 0] ->  [ 0.  1.  3.]\n",
      "Permutation [2 0 1] ->  [ 0.  2.  2.]\n",
      "Permutation [2 1 0] ->  [ 0.  2.  3.]\n"
     ]
    }
   ],
   "source": [
    "t_norm = np.empty(n_perm)\n",
    "for i in range(n_perm):\n",
    "    print (\"Permutation \"+ str(perm[i]) +\" -> \",t_loop[i])"
   ]
  },
  {
   "cell_type": "markdown",
   "metadata": {},
   "source": [
    "## Samples\n",
    "### Random Permutations"
   ]
  },
  {
   "cell_type": "markdown",
   "metadata": {},
   "source": [
    "Here we test the same, but instead of using all permutations, we decide to take $m$ random permutations of $n$ numbers"
   ]
  },
  {
   "cell_type": "code",
   "execution_count": 8,
   "metadata": {},
   "outputs": [
    {
     "data": {
      "image/png": "[encoded data removed]",
      "text/plain": [
       "<matplotlib.figure.Figure at 0x7fd4b85dd5c0>"
      ]
     },
     "metadata": {},
     "output_type": "display_data"
    },
    {
     "name": "stdout",
     "output_type": "stream",
     "text": [
      "\n",
      "Average Steps: 113.704 - Min Steps: 64.0 - Max Steps: 163.0\n",
      "Probabilities: \n",
      "P(64) = 0.002\n",
      "P(67) = 0.002\n",
      "P(70) = 0.001\n",
      "P(73) = 0.002\n",
      "P(76) = 0.005\n",
      "P(79) = 0.012\n",
      "P(82) = 0.009\n",
      "P(85) = 0.014\n",
      "P(88) = 0.02\n",
      "P(91) = 0.032\n",
      "P(94) = 0.045\n",
      "P(97) = 0.044\n",
      "P(100) = 0.051\n",
      "P(103) = 0.063\n",
      "P(106) = 0.069\n",
      "P(109) = 0.057\n",
      "P(112) = 0.064\n",
      "P(115) = 0.067\n",
      "P(118) = 0.064\n",
      "P(121) = 0.068\n",
      "P(124) = 0.06\n",
      "P(127) = 0.052\n",
      "P(130) = 0.051\n",
      "P(133) = 0.037\n",
      "P(136) = 0.036\n",
      "P(139) = 0.023\n",
      "P(142) = 0.016\n",
      "P(145) = 0.013\n",
      "P(148) = 0.01\n",
      "P(151) = 0.003\n",
      "P(154) = 0.004\n",
      "P(157) = 0.002\n",
      "P(160) = 0.001\n",
      "P(163) = 0.001\n"
     ]
    },
    {
     "data": {
      "image/png": "[encoded data removed]",
      "text/plain": [
       "<matplotlib.figure.Figure at 0x7fd4b85dd5f8>"
      ]
     },
     "metadata": {},
     "output_type": "display_data"
    },
    {
     "name": "stdout",
     "output_type": "stream",
     "text": [
      "\n",
      "Average Comparisons: 31.568 - Min Comparisons: 15.0 - Max Comparisons: 48.0\n",
      "Probabilities for Comparisons: \n",
      "P(15) = 0.002\n",
      "P(16) = 0.002\n",
      "P(17) = 0.001\n",
      "P(18) = 0.002\n",
      "P(19) = 0.005\n",
      "P(20) = 0.012\n",
      "P(21) = 0.009\n",
      "P(22) = 0.014\n",
      "P(23) = 0.02\n",
      "P(24) = 0.032\n",
      "P(25) = 0.045\n",
      "P(26) = 0.044\n",
      "P(27) = 0.051\n",
      "P(28) = 0.063\n",
      "P(29) = 0.069\n",
      "P(30) = 0.057\n",
      "P(31) = 0.064\n",
      "P(32) = 0.067\n",
      "P(33) = 0.064\n",
      "P(34) = 0.068\n",
      "P(35) = 0.06\n",
      "P(36) = 0.052\n",
      "P(37) = 0.051\n",
      "P(38) = 0.037\n",
      "P(39) = 0.036\n",
      "P(40) = 0.023\n",
      "P(41) = 0.016\n",
      "P(42) = 0.013\n",
      "P(43) = 0.01\n",
      "P(44) = 0.003\n",
      "P(45) = 0.004\n",
      "P(46) = 0.002\n",
      "P(47) = 0.001\n",
      "P(48) = 0.001\n"
     ]
    },
    {
     "data": {
      "image/png": "[encoded data removed]",
      "text/plain": [
       "<matplotlib.figure.Figure at 0x7fd4b8508f60>"
      ]
     },
     "metadata": {},
     "output_type": "display_data"
    },
    {
     "name": "stdout",
     "output_type": "stream",
     "text": [
      "\n",
      "Average Swaps: 22.568 - Min Swaps: 6.0 - Max Swaps: 39.0\n",
      "Probabilities for Swaps: \n",
      "P(6) = 0.002\n",
      "P(7) = 0.002\n",
      "P(8) = 0.001\n",
      "P(9) = 0.002\n",
      "P(10) = 0.005\n",
      "P(11) = 0.012\n",
      "P(12) = 0.009\n",
      "P(13) = 0.014\n",
      "P(14) = 0.02\n",
      "P(15) = 0.032\n",
      "P(16) = 0.045\n",
      "P(17) = 0.044\n",
      "P(18) = 0.051\n",
      "P(19) = 0.063\n",
      "P(20) = 0.069\n",
      "P(21) = 0.057\n",
      "P(22) = 0.064\n",
      "P(23) = 0.067\n",
      "P(24) = 0.064\n",
      "P(25) = 0.068\n",
      "P(26) = 0.06\n",
      "P(27) = 0.052\n",
      "P(28) = 0.051\n",
      "P(29) = 0.037\n",
      "P(30) = 0.036\n",
      "P(31) = 0.023\n",
      "P(32) = 0.016\n",
      "P(33) = 0.013\n",
      "P(34) = 0.01\n",
      "P(35) = 0.003\n",
      "P(36) = 0.004\n",
      "P(37) = 0.002\n",
      "P(38) = 0.001\n",
      "P(39) = 0.001\n"
     ]
    }
   ],
   "source": [
    "#function with random permutations\n",
    "def r_calc(n,m): #n numbers, m permutations\n",
    "    #Generate permutations lenght n\n",
    "    perm = np.array([np.random.permutation(n) for i in range(m)])\n",
    "    n_perm=m\n",
    "    pasos = np.empty(n_perm)\n",
    "    comparaciones = np.empty(n_perm)\n",
    "    sw = np.empty(n_perm)\n",
    "    t_loop=np.empty([n_perm,n])\n",
    "    for i in range (n_perm):\n",
    "        tm = np.copy(perm[i])\n",
    "        A,steps,comps,swaps,t = in_sort_Mod(tm,n)\n",
    "        pasos[i]=steps\n",
    "        comparaciones[i]=comps\n",
    "        sw[i]=swaps\n",
    "        t_loop[i] = t\n",
    "    return pasos,comparaciones,sw,t_loop,perm,n_perm\n",
    "\n",
    "#Call the function\n",
    "n,m = 10,1000\n",
    "pasos,comparaciones,sw,t_loop,perm,n_perm = r_calc(n,m)\n",
    "\n",
    "step_hist(pasos,n_perm)\n",
    "comp_hist(comparaciones,n_perm)\n",
    "swap_hist(sw,n_perm)"
   ]
  },
  {
   "cell_type": "code",
   "execution_count": null,
   "metadata": {},
   "outputs": [],
   "source": []
  }
 ],
 "metadata": {
  "kernelspec": {
   "display_name": "Python 3",
   "language": "python",
   "name": "python3"
  },
  "language_info": {
   "codemirror_mode": {
    "name": "ipython",
    "version": 3
   },
   "file_extension": ".py",
   "mimetype": "text/x-python",
   "name": "python",
   "nbconvert_exporter": "python",
   "pygments_lexer": "ipython3",
   "version": "3.6.3"
  }
 },
 "nbformat": 4,
 "nbformat_minor": 2
}
