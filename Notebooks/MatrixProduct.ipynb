{
 "cells": [
  {
   "cell_type": "markdown",
   "metadata": {},
   "source": [
    "# Matrix Product Analysis\n",
    "## Product"
   ]
  },
  {
   "cell_type": "code",
   "execution_count": 1,
   "metadata": {
    "collapsed": true
   },
   "outputs": [],
   "source": [
    "import numpy as np\n",
    "import time\n",
    "import matplotlib.pyplot as plt"
   ]
  },
  {
   "cell_type": "code",
   "execution_count": 2,
   "metadata": {},
   "outputs": [],
   "source": [
    "def matrixProduct(A,B,n,m,k):\n",
    "    C = np.empty((n,k),dtype=int)\n",
    "    for i in range(0,n):\n",
    "        for j in range(0,k):\n",
    "            C[i][j]=0\n",
    "            for l in range(0,m):\n",
    "                C[i][j] = C[i][j]+(A[i][l]*B[l][j])\n",
    "    return C"
   ]
  },
  {
   "cell_type": "code",
   "execution_count": 3,
   "metadata": {},
   "outputs": [
    {
     "name": "stdout",
     "output_type": "stream",
     "text": [
      "Time>  0.0006770000000000387  seconds\n",
      "A = \n",
      " [[-29  39 -41 -43   0]\n",
      " [-79 -18  95  16   2]\n",
      " [ 19  41  96  83 -33]\n",
      " [ 34  88   4  49  95]\n",
      " [-51 -70 -61  70  25]]\n",
      "B = \n",
      " [[-48  87 -88   2   0]\n",
      " [ 89  13  48 -66 -71]\n",
      " [ 18 -26  70 -88  12]\n",
      " [-37 -87 -88 -92 -89]\n",
      " [-20  78  74 -67 -59]]\n",
      "AB = \n",
      " [[  5716   2791   5338   4932    566]\n",
      " [  3268 -10813  11478  -8936    876]\n",
      " [  2054 -10105  -2730 -16541  -7199]\n",
      " [  2559   7145   4230 -16965 -16166]\n",
      " [ -7970  -7901  -7452   1771  -3467]]\n"
     ]
    }
   ],
   "source": [
    "# we define the matrix dimesion nxm for two matrix\n",
    "n,m,k = 5,5,5\n",
    "bottom,top = -100,100\n",
    "\n",
    "#Matrix A,B\n",
    "A = np.random.randint(low = bottom,high = top, size = (n,m)) #n*m\n",
    "B = np.random.randint(low = bottom,high = top, size = (m,k)) #n*k\n",
    "\n",
    "to= time.clock()\n",
    "C = matrixProduct(A,B,n,m,k)\n",
    "tf= time.clock()\n",
    "\n",
    "print (\"Time> \",tf-to,\" seconds\")\n",
    "\n",
    "print(\"A = \\n\",A)\n",
    "print(\"B = \\n\",B)\n",
    "print(\"AB = \\n\",C)"
   ]
  },
  {
   "cell_type": "markdown",
   "metadata": {
    "collapsed": true
   },
   "source": [
    "## Time Plot\n",
    "Here we check the time taken by product, for simplicity, we consider square matrix, giving us a complexity of $O(n^3)$. If we consider non squared matrices, the complexity would be $O(n*m*k)$ because of the behaviour of the function $\\textit{matrixProduct(A,B,n,m,k)}$"
   ]
  },
  {
   "cell_type": "code",
   "execution_count": 4,
   "metadata": {},
   "outputs": [
    {
     "data": {
      "image/png": "[encoded data removed]",
      "text/plain": [
       "<matplotlib.figure.Figure at 0x7f51eb7aa5f8>"
      ]
     },
     "metadata": {},
     "output_type": "display_data"
    }
   ],
   "source": [
    "def expectedTime(n):\n",
    "    #slow computer\n",
    "    return (n**3)/(10**6)\n",
    "\n",
    "bottom,top = -100,100\n",
    "matrixSize = 100\n",
    "sizes = np.arange(0,matrixSize)\n",
    "times = np.empty(matrixSize)\n",
    "for i in sizes:\n",
    "    n=m=k=i\n",
    "    A = np.random.randint(low = bottom,high = top, size = (n,m)) #n*m\n",
    "    B = np.random.randint(low = bottom,high = top, size = (m,k)) #n*k\n",
    "    \n",
    "    to= time.clock()\n",
    "    C = matrixProduct(A,B,n,m,k)\n",
    "    tf= time.clock()\n",
    "    times[i]=tf-to\n",
    "\n",
    "plt.plot(times,sizes,'k.')\n",
    "plt.plot(expectedTime(sizes),sizes)\n",
    "plt.show()"
   ]
  }
 ],
 "metadata": {
  "kernelspec": {
   "display_name": "Python 3",
   "language": "python",
   "name": "python3"
  },
  "language_info": {
   "codemirror_mode": {
    "name": "ipython",
    "version": 3
   },
   "file_extension": ".py",
   "mimetype": "text/x-python",
   "name": "python",
   "nbconvert_exporter": "python",
   "pygments_lexer": "ipython3",
   "version": "3.6.3"
  }
 },
 "nbformat": 4,
 "nbformat_minor": 2
}
