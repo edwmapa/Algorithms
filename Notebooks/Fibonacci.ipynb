{
 "cells": [
  {
   "cell_type": "markdown",
   "metadata": {
    "collapsed": true
   },
   "source": [
    "# Fibonacci\n",
    "## Implementation"
   ]
  },
  {
   "cell_type": "code",
   "execution_count": 1,
   "metadata": {
    "collapsed": true
   },
   "outputs": [],
   "source": [
    "import numpy as np\n",
    "import time\n",
    "import matplotlib.pyplot as plt"
   ]
  },
  {
   "cell_type": "code",
   "execution_count": 2,
   "metadata": {},
   "outputs": [],
   "source": [
    "#Recursive\n",
    "def fiboR(n):\n",
    "    if (n == 0):\n",
    "        return 0\n",
    "    elif (n == 1):\n",
    "        return 1\n",
    "    return fiboR(n-1)+fiboR(n-2)\n",
    "\n",
    "#Iterative\n",
    "def fiboI(n):\n",
    "    a,b = 0,1\n",
    "    for i in range(1,n):\n",
    "        a,b = b,a+b\n",
    "    return b"
   ]
  },
  {
   "cell_type": "code",
   "execution_count": 3,
   "metadata": {},
   "outputs": [
    {
     "name": "stdout",
     "output_type": "stream",
     "text": [
      "Recursive >  0.31703900000000007  seconds.\n",
      " fibR( 30 ) =  832040\n"
     ]
    }
   ],
   "source": [
    "n = 30\n",
    "to = time.clock()\n",
    "a = fiboR(n)\n",
    "tf = time.clock()\n",
    "print(\"Recursive > \",tf-to,\" seconds.\\n\",\"fibR(\",n,\") = \",a)"
   ]
  },
  {
   "cell_type": "code",
   "execution_count": 4,
   "metadata": {},
   "outputs": [
    {
     "name": "stdout",
     "output_type": "stream",
     "text": [
      "Iterative >  7.399999999990747e-05  seconds.\n",
      " fibI( 100 ) =  354224848179261915075\n"
     ]
    }
   ],
   "source": [
    "n = 100\n",
    "to = time.clock()\n",
    "a = fiboI(n)\n",
    "tf = time.clock()\n",
    "print(\"Iterative > \",tf-to,\" seconds.\\n\",\"fibI(\",n,\") = \",a)"
   ]
  },
  {
   "cell_type": "markdown",
   "metadata": {},
   "source": [
    "## Time Analyisis\n",
    "The performance of the iterative implementation is better than the recursive implementation, because the recursive one wastes time recalculating values that had already been calculated."
   ]
  },
  {
   "cell_type": "code",
   "execution_count": 5,
   "metadata": {
    "collapsed": true
   },
   "outputs": [],
   "source": [
    "#Time Functions\n",
    "def timeFiboR(n):\n",
    "    to = time.clock()\n",
    "    fiboR(n)\n",
    "    tf = time.clock()\n",
    "    return tf-to\n",
    "def timeFiboI(n):\n",
    "    to = time.clock()\n",
    "    fiboI(n)\n",
    "    tf = time.clock()\n",
    "    return tf-to"
   ]
  },
  {
   "cell_type": "code",
   "execution_count": 6,
   "metadata": {},
   "outputs": [
    {
     "data": {
      "image/png": "[encoded data removed]",
      "text/plain": [
       "<matplotlib.figure.Figure at 0x7f91eafe1240>"
      ]
     },
     "metadata": {},
     "output_type": "display_data"
    }
   ],
   "source": [
    "#It takes more than a second for recursive if n>30\n",
    "N = np.arange(0,35)\n",
    "X1 = [timeFiboR(i) for i in N]\n",
    "X2 = [timeFiboI(i) for i in N]\n",
    "rec, = plt.plot(N,X1,label = 'Recursive')\n",
    "it, = plt.plot(N,X2,label = 'Iterative')\n",
    "plt.legend(handles=[it,rec])\n",
    "plt.title('Performance Comparison - Fibonacci Functions')\n",
    "plt.xlabel('N')\n",
    "plt.ylabel('time(seconds)')\n",
    "plt.show()"
   ]
  },
  {
   "cell_type": "code",
   "execution_count": 7,
   "metadata": {},
   "outputs": [
    {
     "data": {
      "image/png": "[encoded data removed]",
      "text/plain": [
       "<matplotlib.figure.Figure at 0x7f91eb27cd30>"
      ]
     },
     "metadata": {},
     "output_type": "display_data"
    }
   ],
   "source": [
    "N = np.arange(0,500)\n",
    "X1 = [timeFiboI(i) for i in N]\n",
    "plt.plot(N,X1)\n",
    "plt.title('Recursive Implementation')\n",
    "plt.xlabel('N')\n",
    "plt.ylabel('time(seconds)')\n",
    "plt.show()"
   ]
  }
 ],
 "metadata": {
  "kernelspec": {
   "display_name": "Python 3",
   "language": "python",
   "name": "python3"
  },
  "language_info": {
   "codemirror_mode": {
    "name": "ipython",
    "version": 3
   },
   "file_extension": ".py",
   "mimetype": "text/x-python",
   "name": "python",
   "nbconvert_exporter": "python",
   "pygments_lexer": "ipython3",
   "version": "3.6.3"
  }
 },
 "nbformat": 4,
 "nbformat_minor": 2
}
